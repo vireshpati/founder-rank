{
 "cells": [
  {
   "cell_type": "markdown",
   "metadata": {},
   "source": [
    "This notebook an entire ranking workflow (no training). Includes:\n",
    "\n",
    "1. Linkedin scraping via proxycurl\n",
    "2. Encoding data into ordinals (sufficient for naive matrix) and a $1\\times26$ feature vector (one hot by ordinal)\n",
    "3. Computing a simple score and prioritizing based on the score (from original matrix)"
   ]
  },
  {
   "cell_type": "code",
   "execution_count": 1,
   "metadata": {},
   "outputs": [],
   "source": [
    "\n",
    "import numpy as np\n",
    "import json\n",
    "import sys\n",
    "\n",
    "sys.path.append(\"..\")\n",
    "\n",
    "from src.config.config import cfg\n",
    "\n",
    "from src.clients.perplexity_client import PerplexityClient\n",
    "from src.clients.proxycurl_client import ProxycurlClient\n",
    "from src.data.profile_transforms import ProfileTransforms\n",
    "from src.utils.model_utils import initialize_weight_matrix, score_feature_matrix\n",
    "from src.core.ranking import search_founders\n",
    "\n",
    "\n",
    "np.set_printoptions(precision=2, suppress=True, linewidth=120)"
   ]
  },
  {
   "cell_type": "markdown",
   "metadata": {},
   "source": [
    "### Linkedin Search"
   ]
  },
  {
   "cell_type": "code",
   "execution_count": null,
   "metadata": {},
   "outputs": [],
   "source": [
    "px = ProxycurlClient()\n",
    "\n",
    "SEARCH = False\n",
    "N = 1\n"
   ]
  },
  {
   "cell_type": "code",
   "execution_count": 2,
   "metadata": {},
   "outputs": [],
   "source": [
    "if SEARCH:\n",
    "    data = search_founders(px=px, limit=N)\n",
    "else:\n",
    "    with open(\"../data/proxycurl/proxy_sample.json\", \"r\") as json_file:\n",
    "        data = json.load(json_file)"
   ]
  },
  {
   "cell_type": "code",
   "execution_count": null,
   "metadata": {},
   "outputs": [],
   "source": [
    "data"
   ]
  },
  {
   "cell_type": "markdown",
   "metadata": {},
   "source": [
    "### Scoring Configuration\n",
    "\n",
    "Consider [this](https://docs.google.com/document/d/1D7Zjma2FrrnSuoQTMsI0ec_5ENTzjN6wIpKoI4O1ASE/edit?tab=t.0) evaluation matrix. \n",
    "\n",
    "We could consider learning the tiers, but hardcoding it seems fine since we don't have enough data.\n",
    "\n",
    "Here's the current matrix scoring schema:\n",
    "\n",
    "| Category  | Encoding | Example                             | Dimension |\n",
    "|-----------|----------|-------------------------------------|-----------|\n",
    "| Undergrad | One hot  | [Tier 3, Tier 2, Tier 1 (other)]| 3  |\n",
    "| Graduate | One hot | [Tier 3, Tier 2, Tier 1 (other), Fallback/None] | 4|\n",
    "| Previous Exit | One hot | [100m+, 25m-100m, 1-25m, Fallback/None] | 4 |\n",
    "| Previous Founder | One hot | [yes - success, yes, no] | 3 |\n",
    "| Prior Startup Exp | One hot | [early + success, early, no] | 3|\n",
    "| Company as Employee Quality | One hot | [Tier 3, Tier 2, Tier 1 (other)] | 3|\n",
    "| Seniority | One hot | [Tier 3, Tier 2, Tier 1 (other)]| 3|\n",
    "| Expertise | One hot | [Tier 3, Tier 2, Tier 1 (other)]|3|\n",
    "||||26|\n"
   ]
  },
  {
   "cell_type": "code",
   "execution_count": null,
   "metadata": {},
   "outputs": [],
   "source": [
    "pc = PerplexityClient()\n",
    "T = ProfileTransforms(data)\n",
    "\n",
    "df = T.process_profiles(profiles=data, perplexity_client=pc)"
   ]
  },
  {
   "cell_type": "markdown",
   "metadata": {},
   "source": [
    "### Ranking \n",
    "\n",
    "W : 26x26 \n",
    "\n",
    "feature_matrix : N x 26\n",
    "\n",
    "Compute scores as: $\\mathrm{score_i} = x_i^T(\\frac{(W+W^T)}{2}+\\Epsilon)x_i$ for each row $x_i$\n",
    "\n",
    "Weight matrix initialization: \n",
    "- Diagonal elements are individual contribution of each feature\n",
    "- Off diagonal elements are pairwise interactions between different features. $w_{ij} >0 \\Rightarrow$ having $i,j$ active together increases score more than individual contributions alone."
   ]
  },
  {
   "cell_type": "code",
   "execution_count": 6,
   "metadata": {},
   "outputs": [],
   "source": [
    "feature_matrix = T.get_feature_matrix()\n",
    "   \n",
    "K = feature_matrix.shape[1]\n",
    "\n",
    "W = initialize_weight_matrix(K, cfg.MATRIX, seed=42, eps=0)\n",
    "\n",
    "df[\"score\"] = score_feature_matrix(feature_matrix, W)\n",
    "\n",
    "results = df.sort_values(by=\"score\", ascending=False)\n",
    "\n",
    "# print(W)"
   ]
  },
  {
   "cell_type": "code",
   "execution_count": null,
   "metadata": {},
   "outputs": [],
   "source": [
    "results"
   ]
  }
 ],
 "metadata": {
  "kernelspec": {
   "display_name": "venv",
   "language": "python",
   "name": "python3"
  },
  "language_info": {
   "codemirror_mode": {
    "name": "ipython",
    "version": 3
   },
   "file_extension": ".py",
   "mimetype": "text/x-python",
   "name": "python",
   "nbconvert_exporter": "python",
   "pygments_lexer": "ipython3",
   "version": "3.13.2"
  }
 },
 "nbformat": 4,
 "nbformat_minor": 2
}
