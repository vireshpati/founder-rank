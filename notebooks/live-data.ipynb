{
 "cells": [
  {
   "cell_type": "code",
   "execution_count": 16,
   "metadata": {},
   "outputs": [],
   "source": [
    "# ! pip install bs4 selenium webdriver-manager -q"
   ]
  },
  {
   "cell_type": "code",
   "execution_count": 17,
   "metadata": {},
   "outputs": [],
   "source": [
    "import pandas as pd\n",
    "import sys\n",
    "\n",
    "sys.path.append(\"..\")\n",
    "\n",
    "from src.clients.yc_client import YCClient\n",
    "from src.clients.perplexity_client import PerplexityClient"
   ]
  },
  {
   "cell_type": "markdown",
   "metadata": {},
   "source": [
    "### Scraping (www.ycombinator.com/companies)"
   ]
  },
  {
   "cell_type": "code",
   "execution_count": 18,
   "metadata": {},
   "outputs": [],
   "source": [
    "yc = YCClient()\n",
    "\n",
    "batch_codes = []\n",
    "\n",
    "# range [i, j] is 200i to 200j.  W and S.\n",
    "for year in range(21, 17, -1):\n",
    "    yr = str(year).zfill(2)\n",
    "    batch_codes.extend([f\"W{yr}\", f\"S{yr}\"])\n",
    "\n",
    "\n",
    "output_dir = \"../data/live/yc\"\n",
    "\n",
    "# df = yc.scrape_batches(batch_codes, output_dir=None)\n",
    "\n",
    "yc.__del__()"
   ]
  },
  {
   "cell_type": "code",
   "execution_count": 19,
   "metadata": {},
   "outputs": [],
   "source": [
    "# df"
   ]
  },
  {
   "cell_type": "markdown",
   "metadata": {},
   "source": [
    "### Get exits and funding for companies\n",
    "\n",
    "Some of these numbers, especially exits are off. But this data should get close enough to map to ordinals and success."
   ]
  },
  {
   "cell_type": "code",
   "execution_count": null,
   "metadata": {},
   "outputs": [],
   "source": [
    "pc = PerplexityClient()\n",
    "\n",
    "for bc in batch_codes:\n",
    "    try:\n",
    "        filename = f'{output_dir}/{bc}.csv'\n",
    "        \n",
    "        batch_df = pd.read_csv(filename)\n",
    "        batch_df = batch_df.drop_duplicates(subset=['Name', 'LinkedIn'])\n",
    "        batch_df = batch_df.dropna(subset=['Name', 'LinkedIn'])\n",
    "        \n",
    "        for company in batch_df['Company'].unique():\n",
    "            try:\n",
    "                evaluation = pc.eval_company(f'{company} (YC {bc})')\n",
    "                \n",
    "                batch_df.loc[batch_df['Company'] == company, 'exit_value_usd'] = evaluation.get('exit_value_usd')\n",
    "                batch_df.loc[batch_df['Company'] == company, 'total_funding_usd'] = evaluation.get('total_funding_usd')\n",
    "                \n",
    "                batch_df.to_csv(filename, index=False)\n",
    "                print(f\"Processed {company}\")\n",
    "                \n",
    "            except Exception as e:\n",
    "                print(f\"Error evaluating {company} (YC {bc}): {e}\")\n",
    "        \n",
    "    except Exception as e:\n",
    "        print(f\"Error loading {bc}: {e}\")"
   ]
  },
  {
   "cell_type": "code",
   "execution_count": null,
   "metadata": {},
   "outputs": [],
   "source": []
  }
 ],
 "metadata": {
  "kernelspec": {
   "display_name": "venv",
   "language": "python",
   "name": "python3"
  },
  "language_info": {
   "codemirror_mode": {
    "name": "ipython",
    "version": 3
   },
   "file_extension": ".py",
   "mimetype": "text/x-python",
   "name": "python",
   "nbconvert_exporter": "python",
   "pygments_lexer": "ipython3",
   "version": "3.13.2"
  }
 },
 "nbformat": 4,
 "nbformat_minor": 2
}
