{
 "cells": [
  {
   "cell_type": "code",
   "execution_count": null,
   "metadata": {},
   "outputs": [],
   "source": [
    "import pandas as pd\n",
    "import numpy as np\n",
    "import sys\n",
    "import os\n",
    "from dotenv import load_dotenv\n",
    "from pathlib import Path\n",
    "\n",
    "sys.path.append('..')\n",
    "\n",
    "from src.clients.perplexity_client import PerplexityClient\n",
    "from src.clients.proxycurl_client import ProxycurlClient\n",
    "from src.clients.yc_client import YCClient\n",
    "from src.config.config import cfg\n",
    "from src.data.profile_transforms import ProfileTransforms\n",
    "from src.utils.profile_utils import load_existing_profiles, get_processed_urls, save_profiles\n",
    "from src.data.yc_data import process_batch_data, process_batch_file, evaluate_batch_companies\n",
    "\n",
    "load_dotenv()"
   ]
  },
  {
   "cell_type": "markdown",
   "metadata": {},
   "source": [
    "### Scraping (www.ycombinator.com/companies)"
   ]
  },
  {
   "cell_type": "code",
   "execution_count": 2,
   "metadata": {},
   "outputs": [],
   "source": [
    "# Directories setup\n",
    "OUTPUT_DIR = \"../data/live/yc\"\n",
    "LINKEDIN_PROFILES_PATH = \"../data/linkedin_profiles.json\"\n",
    "ENCODED_DATA_DIR = \"../data/parsed/\"\n",
    "ENCODED_OUTPUT_DIR = \"../data/encoded\"\n",
    "SYNTH_DATA_PATH = '../data/synth/encoded_founders_composites.csv'\n",
    "\n",
    "Path(OUTPUT_DIR).mkdir(parents=True, exist_ok=True)\n",
    "Path(ENCODED_OUTPUT_DIR).mkdir(parents=True, exist_ok=True)\n",
    "\n",
    "batch_codes = [f\"{season}{str(year).zfill(2)}\" for year in range(21, 20, -1) for season in ['W', 'S']]\n",
    "# batch_codes.append('top_companies')\n",
    "\n",
    "yc = YCClient(headless=True)\n",
    "pc = PerplexityClient()\n",
    "px = ProxycurlClient()\n",
    "T = ProfileTransforms({}, cfg.MATRIX)\n"
   ]
  },
  {
   "cell_type": "code",
   "execution_count": null,
   "metadata": {},
   "outputs": [],
   "source": [
    "linkedin_profiles = load_existing_profiles(LINKEDIN_PROFILES_PATH)\n",
    "processed_urls = get_processed_urls(linkedin_profiles)\n",
    "\n",
    "batch_codes = []\n",
    "for batch_code in batch_codes:\n",
    "    print(f\"\\nProcessing batch {batch_code}\")\n",
    "    batch_file = f\"{OUTPUT_DIR}/{batch_code}.csv\"\n",
    "    df = yc.scrape_batch(batch_code)\n",
    "    if not df.empty:\n",
    "        df.to_csv(batch_file, index=False)\n",
    "\n",
    "yc.__del__()  \n"
   ]
  },
  {
   "cell_type": "markdown",
   "metadata": {},
   "source": [
    "### Processing YC batches\n",
    "\n",
    "Convert to raw then encoded data"
   ]
  },
  {
   "cell_type": "code",
   "execution_count": null,
   "metadata": {},
   "outputs": [],
   "source": [
    "for batch_code in batch_codes:\n",
    "    batch_file = f\"{OUTPUT_DIR}/{batch_code}.csv\"\n",
    "    if os.path.exists(batch_file):\n",
    "        cutoff_date = int('20' + batch_code[-2:]) if batch_code != 'top_companies' else None\n",
    "        \n",
    "\n",
    "        linkedin_profiles, processed_urls = process_batch_file(\n",
    "            batch_file,\n",
    "            linkedin_profiles,\n",
    "            processed_urls,\n",
    "            px,\n",
    "            output_path=LINKEDIN_PROFILES_PATH,\n",
    "            batch_size=5\n",
    "        )\n",
    "\n",
    "        batch_profiles = [p for p in linkedin_profiles if p.get('yc_batch') == batch_code]\n",
    "        if batch_profiles:\n",
    "            df = T.process_profiles(\n",
    "                batch_profiles,\n",
    "                perplexity_client=pc,\n",
    "                cutoff_date=cutoff_date,\n",
    "                output_dir=ENCODED_DATA_DIR,\n",
    "                batch_code=batch_code\n",
    "            )\n",
    "        \n",
    "        evaluate_batch_companies([batch_code], OUTPUT_DIR, pc)\n",
    "\n",
    "        result_df, match_log = process_batch_data(\n",
    "            batch_code=batch_code,\n",
    "            synth_data_path=SYNTH_DATA_PATH,\n",
    "            profiles_path=f\"{ENCODED_DATA_DIR}/{batch_code}_profiles.csv\",\n",
    "            funding_path=f\"{OUTPUT_DIR}/{batch_code}.csv\",\n",
    "            output_path=f\"{ENCODED_OUTPUT_DIR}/{batch_code}_encoded_with_outcomes.csv\"\n",
    "        )"
   ]
  },
  {
   "cell_type": "code",
   "execution_count": null,
   "metadata": {},
   "outputs": [],
   "source": [
    "# # Handle top companies separately\n",
    "# if 'top_companies' in batch_codes:\n",
    "#     top_companies_path = f\"{OUTPUT_DIR}/top_companies.csv\"\n",
    "#     T.process_top_companies(\n",
    "#         top_companies_path,\n",
    "#         LINKEDIN_PROFILES_PATH,\n",
    "#         pc,\n",
    "#         output_path=f\"{ENCODED_DATA_DIR}/top_companies_profiles.csv\"\n",
    "#     )"
   ]
  }
 ],
 "metadata": {
  "kernelspec": {
   "display_name": "venv",
   "language": "python",
   "name": "python3"
  },
  "language_info": {
   "codemirror_mode": {
    "name": "ipython",
    "version": 3
   },
   "file_extension": ".py",
   "mimetype": "text/x-python",
   "name": "python",
   "nbconvert_exporter": "python",
   "pygments_lexer": "ipython3",
   "version": "3.13.2"
  }
 },
 "nbformat": 4,
 "nbformat_minor": 2
}
