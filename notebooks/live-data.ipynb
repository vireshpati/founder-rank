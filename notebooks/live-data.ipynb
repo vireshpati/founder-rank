{
 "cells": [
  {
   "cell_type": "code",
   "execution_count": 5,
   "metadata": {},
   "outputs": [],
   "source": [
    "# !in[0]: !pip install bs4 selenium webdriver-manager -q"
   ]
  },
  {
   "cell_type": "code",
   "execution_count": 4,
   "metadata": {},
   "outputs": [],
   "source": [
    "import pandas as pd\n",
    "import sys\n",
    "\n",
    "sys.path.append(\"..\")\n",
    "\n",
    "from src.clients.yc_client import YCClient"
   ]
  },
  {
   "cell_type": "code",
   "execution_count": null,
   "metadata": {},
   "outputs": [],
   "source": [
    "yc = YCClient()\n",
    "\n",
    "batch_codes = []\n",
    "# range [i, j] is 200i to 200j. Only W and S.\n",
    "for year in range(5, 6):\n",
    "    yr = str(year).zfill(2)\n",
    "    batch_codes.extend([f\"W{yr}\", f\"S{yr}\"])\n",
    "\n",
    "\n",
    "df = yc.scrape_batches(batch_codes, output_dir=None)\n",
    "\n",
    "yc.__del__()"
   ]
  },
  {
   "cell_type": "code",
   "execution_count": null,
   "metadata": {},
   "outputs": [],
   "source": [
    "df\n"
   ]
  }
 ],
 "metadata": {
  "kernelspec": {
   "display_name": "venv",
   "language": "python",
   "name": "python3"
  },
  "language_info": {
   "codemirror_mode": {
    "name": "ipython",
    "version": 3
   },
   "file_extension": ".py",
   "mimetype": "text/x-python",
   "name": "python",
   "nbconvert_exporter": "python",
   "pygments_lexer": "ipython3",
   "version": "3.13.2"
  }
 },
 "nbformat": 4,
 "nbformat_minor": 2
}
