{
 "cells": [
  {
   "cell_type": "markdown",
   "metadata": {},
   "source": [
    "This notebook contains all the code needed to generate a synthetic dataset.\n",
    "\n",
    "All params handled in `src/config.py` `SYNTH` variable.\n",
    "- Exits and funding are pulled from lognormal distr\n",
    "- Ordinal founder attrs come from discrete pdfs in hyperparameter config.\n",
    "\n",
    "Visualizations provided at the end to compare with expectations of real-world data.\n",
    "\n",
    "Defining success as an exit or `config.SUCCESS_THRESHOLD` in funding. compute a raw score (which could be used to prioritize) and probability of success in `model.ipynb`."
   ]
  },
  {
   "cell_type": "code",
   "execution_count": 1,
   "metadata": {},
   "outputs": [],
   "source": [
    "# ! pip install seaborn plotly scipy -q"
   ]
  },
  {
   "cell_type": "code",
   "execution_count": 2,
   "metadata": {},
   "outputs": [],
   "source": [
    "import sys\n",
    "\n",
    "sys.path.append(\"..\")\n",
    "\n",
    "from src.config.config import cfg\n",
    "from src.datagen import datagen\n",
    "from src.viz.data_viz import (\n",
    "    plot_category_distribution_overall_and_by_pop,\n",
    "    plot_hist_overall_and_by_pop, \n",
    "    visualize_successful_cases,\n",
    "    load_batch_data,\n",
    "    analyze_batch_data\n",
    ")\n"
   ]
  },
  {
   "cell_type": "markdown",
   "metadata": {},
   "source": [
    "### Generate dataset\n",
    "Configure params in `src/config/config.SYNTH`"
   ]
  },
  {
   "cell_type": "code",
   "execution_count": 3,
   "metadata": {},
   "outputs": [],
   "source": [
    "dg = datagen.DataGenerator() \n",
    "\n",
    "N = 5000\n",
    "X_syn, exit_syn, fund_syn, pop_labels = dg.generate_dataset(N, cfg.SYNTH['POPULATIONS'])"
   ]
  },
  {
   "cell_type": "code",
   "execution_count": null,
   "metadata": {},
   "outputs": [],
   "source": [
    "\n",
    "\n",
    "for cat_name in cfg.MATRIX.keys():\n",
    "    plot_category_distribution_overall_and_by_pop(X_syn, pop_labels, cat_name)\n",
    "\n",
    "plot_hist_overall_and_by_pop(fund_syn, pop_labels, title=\"Funding Amount\", bins=50, log_scale=True)\n",
    "\n",
    "plot_hist_overall_and_by_pop(exit_syn, pop_labels, title=\"Exit Value\", bins=50, log_scale=True)\n",
    "\n",
    "visualize_successful_cases(exit_syn, fund_syn)"
   ]
  },
  {
   "cell_type": "markdown",
   "metadata": {},
   "source": [
    "### Save Dataset"
   ]
  },
  {
   "cell_type": "code",
   "execution_count": null,
   "metadata": {},
   "outputs": [],
   "source": [
    "df = dg.save_synthetic_dataset(\n",
    "    X_syn, \n",
    "    exit_syn, \n",
    "    fund_syn, \n",
    "    cfg.MATRIX, \n",
    "    \"../data/synth/encoded_founders_composites.csv\", \n",
    "    success_funding_threshold=cfg.SUCCESS_FUNDING_THRESHOLD\n",
    ")\n",
    "df"
   ]
  },
  {
   "cell_type": "markdown",
   "metadata": {},
   "source": [
    "### EDA for YC data"
   ]
  },
  {
   "cell_type": "code",
   "execution_count": null,
   "metadata": {},
   "outputs": [],
   "source": [
    "batch_codes = ['S21', 'W21', 'S17', 'W17', 'top_companies']\n",
    "\n",
    "df = load_batch_data(batch_codes)\n",
    "analyze_batch_data(df, batch_codes)"
   ]
  }
 ],
 "metadata": {
  "kernelspec": {
   "display_name": "venv",
   "language": "python",
   "name": "python3"
  },
  "language_info": {
   "codemirror_mode": {
    "name": "ipython",
    "version": 3
   },
   "file_extension": ".py",
   "mimetype": "text/x-python",
   "name": "python",
   "nbconvert_exporter": "python",
   "pygments_lexer": "ipython3",
   "version": "3.13.2"
  }
 },
 "nbformat": 4,
 "nbformat_minor": 2
}
