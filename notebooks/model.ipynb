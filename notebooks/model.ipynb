{
 "cells": [
  {
   "cell_type": "markdown",
   "metadata": {},
   "source": [
    "Training notebook. Save models for use in `founder-rank.ipynb`. Simple gradient-based quadratic classification model to compute $W$. "
   ]
  },
  {
   "cell_type": "code",
   "execution_count": 14,
   "metadata": {},
   "outputs": [],
   "source": [
    "import sys\n",
    "import numpy as np\n",
    "import pandas as pd\n",
    "import torch\n",
    "from torch.utils.data import TensorDataset, DataLoader\n",
    "from sklearn.metrics import classification_report\n",
    "from pathlib import Path\n",
    "import pickle\n",
    "\n",
    "sys.path.append(\"..\")\n",
    "\n",
    "from src.models.trainer import create_model_and_trainer\n",
    "from src.config.config import cfg\n",
    "from src.viz.model_viz import plot_model_performance, plot_feature_importance, plot_ranked_feature_importance, plot_sample_predictions, display_final_metrics, plot_top_feature_interactions\n",
    "from src.data.preprocessing import load_and_preprocess_data\n",
    "\n",
    "np.set_printoptions(precision=2, suppress=True, linewidth=120)\n"
   ]
  },
  {
   "cell_type": "markdown",
   "metadata": {},
   "source": [
    "### Hyperparameters"
   ]
  },
  {
   "cell_type": "code",
   "execution_count": null,
   "metadata": {},
   "outputs": [],
   "source": [
    "# model_dir = Path(\"../models\")\n",
    "# with open(model_dir / \"founder_rank_best.pkl\", 'rb') as f:\n",
    "#     model_data = pickle.load(f)\n",
    "\n",
    "# print(\"Hyperparameters used:\")\n",
    "# for key, value in model_data['hyperparameters'].items():\n",
    "#     print(f\"{key}: {value}\")"
   ]
  },
  {
   "cell_type": "code",
   "execution_count": 16,
   "metadata": {},
   "outputs": [],
   "source": [
    "hyp = {\n",
    "    \"data_paths\": [\n",
    "        \"../data/encoded/S21_encoded_with_outcomes.csv\",\n",
    "        \"../data/encoded/W21_encoded_with_outcomes.csv\",\n",
    "        \"../data/encoded/S17_encoded_with_outcomes.csv\",\n",
    "        \"../data/encoded/W17_encoded_with_outcomes.csv\",\n",
    "        \"../data/encoded/top_companies_encoded_with_outcomes.csv\"\n",
    "    ],\n",
    "    \"synthetic_data_path\": '../data/synth/encoded_founders_composites.csv',\n",
    "    \"test_size\": 0.125,  \n",
    "    \"val_size\": 0.125,   \n",
    "    \"random_state\": 42,\n",
    "    \"batch_size\": 32,     \n",
    "    \"lr\": 0.0005,         \n",
    "    \"weight_decay\": 1.8e-3,  \n",
    "    \"epochs\": 1500,       \n",
    "    \"device\": \"cuda\" if torch.cuda.is_available() else \"cpu\",\n",
    "    \"exclude_columns\": [\"success\", \"exit_value\", \"funding_amount\", \"batch\"],\n",
    "    \"target_column\": \"success\",\n",
    "    \n",
    "    # Regularization parameters\n",
    "    \"diag_penalty\": 0.0002,    \n",
    "    \"l1_penalty\": 0.0004,      \n",
    "    \"top_k_penalty\": 0.0005,   \n",
    "    \"top_k\": 15,               \n",
    "    \"dropout\": 0.15,           \n",
    "    \n",
    "    # Training parameters\n",
    "    \"log_every\": 10,\n",
    "    \"early_stopping_patience\": 250, \n",
    "}"
   ]
  },
  {
   "cell_type": "markdown",
   "metadata": {},
   "source": [
    "### Training"
   ]
  },
  {
   "cell_type": "code",
   "execution_count": null,
   "metadata": {},
   "outputs": [],
   "source": [
    "\n",
    "tensors, feature_names, scaler = load_and_preprocess_data(hyp)\n",
    "\n",
    "X_train_tensor, y_train_tensor, is_synthetic_train_tensor = tensors['train']\n",
    "X_val_tensor, y_val_tensor = tensors['val']\n",
    "X_test_tensor, y_test_tensor = tensors['test']\n",
    "\n",
    "train_dataset = TensorDataset(X_train_tensor, y_train_tensor, is_synthetic_train_tensor)\n",
    "train_loader = DataLoader(train_dataset, batch_size=hyp[\"batch_size\"], shuffle=True)\n",
    "\n",
    "input_dim = X_train_tensor.shape[1]\n",
    "pos_weight = (y_train_tensor == 0).sum() / (y_train_tensor == 1).sum()\n",
    "model, trainer = create_model_and_trainer(input_dim, hyp, pos_weight=pos_weight)\n",
    "\n",
    "W_init = trainer.train(train_loader,  X_val_tensor, y_val_tensor, X_test_tensor, y_test_tensor)\n",
    "\n",
    "W_final = model.get_W().detach().cpu().numpy()\n",
    "\n",
    "predictions = trainer.predict(X_train_tensor, X_val_tensor, X_test_tensor)\n",
    "train_probs, train_preds = predictions['train']\n",
    "val_probs, val_preds = predictions['val'] \n",
    "test_probs, test_preds = predictions['test']"
   ]
  },
  {
   "cell_type": "markdown",
   "metadata": {},
   "source": [
    "### Model Performance"
   ]
  },
  {
   "cell_type": "code",
   "execution_count": null,
   "metadata": {},
   "outputs": [],
   "source": [
    "plot_model_performance(trainer, W_init)"
   ]
  },
  {
   "cell_type": "markdown",
   "metadata": {},
   "source": [
    "### Features"
   ]
  },
  {
   "cell_type": "code",
   "execution_count": null,
   "metadata": {},
   "outputs": [],
   "source": [
    "plot_feature_importance(W_final, feature_names)\n",
    "plot_ranked_feature_importance(W_final, feature_names)\n",
    "plot_top_feature_interactions(W_final, feature_names)"
   ]
  },
  {
   "cell_type": "markdown",
   "metadata": {},
   "source": [
    "### Samples\n",
    "\n",
    "Note: deliberately samples some TP, TN, FP, FN for ref. "
   ]
  },
  {
   "cell_type": "code",
   "execution_count": null,
   "metadata": {},
   "outputs": [],
   "source": [
    "plot_sample_predictions(model, X_test_tensor.numpy(), y_test_tensor.numpy(), cfg.MATRIX, scaler, n_samples=10, device=hyp['device'])"
   ]
  },
  {
   "cell_type": "markdown",
   "metadata": {},
   "source": [
    "### Metrics\n",
    "\n",
    "Note: NDCG is eval metric. "
   ]
  },
  {
   "cell_type": "code",
   "execution_count": null,
   "metadata": {},
   "outputs": [],
   "source": [
    "\n",
    "display_final_metrics(trainer)\n",
    "\n",
    "print(\"\\n\" + \"=\"*80)\n",
    "print(\"TRAIN SET CLASSIFICATION REPORT\")\n",
    "print(\"=\"*80)\n",
    "print(classification_report(y_train_tensor.cpu().numpy(), train_preds, zero_division=0))\n",
    "\n",
    "print(\"\\n\" + \"=\"*80)\n",
    "print(\"VALIDATION SET CLASSIFICATION REPORT\")\n",
    "print(\"=\"*80)\n",
    "print(classification_report(y_val_tensor.cpu().numpy(), val_preds, zero_division=0))\n",
    "\n",
    "print(\"\\n\" + \"=\"*80)\n",
    "print(\"TEST SET CLASSIFICATION REPORT\")\n",
    "print(\"=\"*80)\n",
    "print(classification_report(y_test_tensor.cpu().numpy(), test_preds, zero_division=0))"
   ]
  },
  {
   "cell_type": "code",
   "execution_count": 18,
   "metadata": {},
   "outputs": [],
   "source": [
    "model_dir = Path(\"../models\")\n",
    "model_dir.mkdir(exist_ok=True)\n",
    "\n",
    "model_data = {\n",
    "    'model_state_dict': model.state_dict(),\n",
    "    'W_init': W_init,\n",
    "    'W_final': model.get_W().detach().cpu().numpy(),\n",
    "    'feature_names': feature_names,\n",
    "    'scaler_state': scaler.__getstate__(),\n",
    "    'hyperparameters': hyp \n",
    "}\n",
    "\n",
    "with open(model_dir / \"founder_rank.pkl\", 'wb') as f:\n",
    "    pickle.dump(model_data, f)\n"
   ]
  }
 ],
 "metadata": {
  "kernelspec": {
   "display_name": "venv",
   "language": "python",
   "name": "python3"
  },
  "language_info": {
   "codemirror_mode": {
    "name": "ipython",
    "version": 3
   },
   "file_extension": ".py",
   "mimetype": "text/x-python",
   "name": "python",
   "nbconvert_exporter": "python",
   "pygments_lexer": "ipython3",
   "version": "3.13.2"
  }
 },
 "nbformat": 4,
 "nbformat_minor": 2
}
