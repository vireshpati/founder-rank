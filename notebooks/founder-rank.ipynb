{
 "cells": [
  {
   "cell_type": "markdown",
   "metadata": {},
   "source": [
    "# Founder Rank\n",
    "This notebook implements all ranking workflows. Data pipeline to be added.\n",
    "\n",
    "### Preprocessing\n",
    "\n",
    "1. Encoding\n",
    "   - Convert founder profiles to numerical values (ordinals) using:\n",
    "     - Configuration mappings from `src.config.Config.MATRIX`\n",
    "     - Profile evaluation via `src.clients.perplexity_client.eval_person`\n",
    "   - Transform ordinals into feature vectors:\n",
    "     - Each ordinal value is converted to one-hot encoding\n",
    "     - All one-hot vectors are concatenated into a single feature vector\n",
    "     - Implementation: `src.processing.transforms.transform`\n",
    "2. Dataset Creation\n",
    "   - Synthetic Data (`src.datagen.datagen.DataGenerator`):\n",
    "     - Generate founder attributes using pdfs defined in `src.config.Config.SYNTH`\n",
    "     - Assign binary success labels based on predefined criteria (exit or Series B)\n",
    "   \n",
    "   - YC Dataset:\n",
    "     - Scraped batches 2012-2021 and top companies via `src.clients.yc_client` and eval exits, funding via `src.clients.perplexity_client.eval_company`.\n",
    "     - Top YC Companies:\n",
    "        - Known to be successful.\n",
    "     - Batches\n",
    "        - YC W/S 21 have targets for now.\n",
    "     - Implementation: `notebooks.live-data.ipynb` & `src.clients.yc_client`\n",
    "3. Split\n",
    "    - Training is synth + some batch data\n",
    "    - Val/Test is top YC and batch\n",
    "\n",
    "### Model \n",
    "\n",
    "1. Architecutre\n",
    "    - Models (`src.models.quadratic`):\n",
    "        - `QuadraticModel`: Learns pairwise feature interactions via W matrix\n",
    "        - `QuadMLP`: tries to capture nonlinearity or higher order (marginal imporvement )\n",
    "            - Quadratic: x^T W x captures explicit pairwise interactions\n",
    "            - MLP: [64] -> LN -> GELU -> D(0.2) -> [32] -> LN -> GELU -> D(0.1) -> [1]\n",
    "    - Confidence scoring:\n",
    "        - Raw score: $f(x)$ = quadratic + mlp terms \n",
    "        - Probability: $P(success | x) = σ(f(x))$\n"
   ]
  },
  {
   "cell_type": "code",
   "execution_count": null,
   "metadata": {},
   "outputs": [],
   "source": []
  }
 ],
 "metadata": {
  "kernelspec": {
   "display_name": "venv",
   "language": "python",
   "name": "python3"
  },
  "language_info": {
   "codemirror_mode": {
    "name": "ipython",
    "version": 3
   },
   "file_extension": ".py",
   "mimetype": "text/x-python",
   "name": "python",
   "nbconvert_exporter": "python",
   "pygments_lexer": "ipython3",
   "version": "3.13.2"
  }
 },
 "nbformat": 4,
 "nbformat_minor": 2
}
